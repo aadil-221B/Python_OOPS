{
 "cells": [
  {
   "cell_type": "markdown",
   "id": "4fa98d8a",
   "metadata": {},
   "source": [
    "### object:-\n",
    "#### TODO: showing coordinates of a randomly Generated rectangle:\n",
    "#### TODO: Ask user to enter coordinates\n",
    "#### TODO: check the coordinates entered are contained within the rectangle"
   ]
  },
  {
   "cell_type": "code",
   "execution_count": 1,
   "id": "113a32d0",
   "metadata": {},
   "outputs": [],
   "source": [
    "# create a class for rectangle"
   ]
  },
  {
   "cell_type": "code",
   "execution_count": 2,
   "id": "06f181fe",
   "metadata": {},
   "outputs": [],
   "source": [
    "class Point:\n",
    "    # need coordinates x,y for a point\n",
    "    def __init__ (self, x, y):\n",
    "        self.x = x\n",
    "        self.y = y\n",
    "    # need start_coordinate and end_coordinate for a rectange\n",
    "    def falls_in_rectangle(self, start_coordinate, end_coordinate):\n",
    "        # condition to check the coordinates of point lies inside the rectangle\n",
    "        if start_coordinate[0] < self.x < end_coordinate[0]\\\n",
    "        and start_coordinate[1] < self.y < end_coordinate[1]:\n",
    "            return True\n",
    "        else:\n",
    "            return False\n",
    "    def distance(self, point):\n",
    "        return ((self.x - point.x)**2 + (self.y - point.y)**2)**0.5"
   ]
  },
  {
   "cell_type": "code",
   "execution_count": 3,
   "id": "8588dd0a",
   "metadata": {},
   "outputs": [],
   "source": [
    "point_1 = Point(10,20)"
   ]
  },
  {
   "cell_type": "code",
   "execution_count": 4,
   "id": "06719d23",
   "metadata": {},
   "outputs": [
    {
     "data": {
      "text/plain": [
       "False"
      ]
     },
     "execution_count": 4,
     "metadata": {},
     "output_type": "execute_result"
    }
   ],
   "source": [
    "point_1.falls_in_rectangle((5,6),(7,9))"
   ]
  },
  {
   "cell_type": "code",
   "execution_count": 5,
   "id": "ab294748",
   "metadata": {},
   "outputs": [
    {
     "ename": "TypeError",
     "evalue": "distance() takes 2 positional arguments but 3 were given",
     "output_type": "error",
     "traceback": [
      "\u001b[1;31m---------------------------------------------------------------------------\u001b[0m",
      "\u001b[1;31mTypeError\u001b[0m                                 Traceback (most recent call last)",
      "\u001b[1;32m~\\AppData\\Local\\Temp/ipykernel_3024/527375815.py\u001b[0m in \u001b[0;36m<module>\u001b[1;34m\u001b[0m\n\u001b[1;32m----> 1\u001b[1;33m \u001b[0mpoint_1\u001b[0m\u001b[1;33m.\u001b[0m\u001b[0mdistance\u001b[0m\u001b[1;33m(\u001b[0m\u001b[1;36m2\u001b[0m\u001b[1;33m,\u001b[0m\u001b[1;36m2\u001b[0m\u001b[1;33m)\u001b[0m\u001b[1;33m\u001b[0m\u001b[1;33m\u001b[0m\u001b[0m\n\u001b[0m",
      "\u001b[1;31mTypeError\u001b[0m: distance() takes 2 positional arguments but 3 were given"
     ]
    }
   ],
   "source": [
    "point_1.distance(2,2)"
   ]
  },
  {
   "cell_type": "code",
   "execution_count": 6,
   "id": "ccc34e1d",
   "metadata": {},
   "outputs": [],
   "source": [
    "# or we can make an reference a point object first and pass it as argument to distance()\n",
    "point2 = Point(2,2)"
   ]
  },
  {
   "cell_type": "code",
   "execution_count": 7,
   "id": "045cbf58",
   "metadata": {},
   "outputs": [
    {
     "data": {
      "text/plain": [
       "19.697715603592208"
      ]
     },
     "execution_count": 7,
     "metadata": {},
     "output_type": "execute_result"
    }
   ],
   "source": [
    "point_1.distance(point2)"
   ]
  },
  {
   "cell_type": "code",
   "execution_count": 11,
   "id": "36801958",
   "metadata": {},
   "outputs": [],
   "source": [
    "class House:\n",
    "    \n",
    "    def __init__ (self, wall_area):\n",
    "        self.wall_area = wall_area\n",
    "    # 2.5 buckets are needed to paint one square unit of wall\n",
    "    def paint_needed(self):\n",
    "        return self.wall_area*2.5\n",
    "class Paint:\n",
    "    \n",
    "    def __init__ (self, buckets, color):\n",
    "        self.buckets = buckets\n",
    "        self.color = color\n",
    "    def total_price(self):\n",
    "        if self.color == \"white\":\n",
    "            return self.buckets*1.9\n",
    "        else:\n",
    "            return self.buckets*2.5\n",
    "        "
   ]
  },
  {
   "cell_type": "code",
   "execution_count": null,
   "id": "ac70bec4",
   "metadata": {},
   "outputs": [],
   "source": []
  },
  {
   "cell_type": "code",
   "execution_count": 12,
   "id": "4750bc36",
   "metadata": {},
   "outputs": [],
   "source": [
    "class Point:\n",
    "    # need coordinates x,y for a point\n",
    "    def __init__ (self, x, y):\n",
    "        self.x = x\n",
    "        self.y = y\n",
    "    # need start_coordinate and end_coordinate for a rectange\n",
    "    def falls_in_rectangle(self, start_coordinate, end_coordinate):\n",
    "        # condition to check the coordinates of point lies inside the rectangle\n",
    "        if start_coordinate[0] < self.x < end_coordinate[0]\\\n",
    "        and start_coordinate[1] < self.y < end_coordinate[1]:\n",
    "            return True\n",
    "        else:\n",
    "            return False\n",
    "    def distance(self, point):\n",
    "        return ((self.x - point.x)**2 + (self.y - point.y)**2)**0.5"
   ]
  },
  {
   "cell_type": "code",
   "execution_count": 13,
   "id": "4f97f9c5",
   "metadata": {},
   "outputs": [],
   "source": [
    "class Rectangle:\n",
    "    def __init__ (self, start_coordinate, end_coordinate):\n",
    "        self.start_coordinate = start_coordinate\n",
    "        self.end_coordinate = end_coordinate"
   ]
  },
  {
   "cell_type": "code",
   "execution_count": 14,
   "id": "47868c6e",
   "metadata": {},
   "outputs": [],
   "source": [
    "point1 = Point(6,7)"
   ]
  },
  {
   "cell_type": "code",
   "execution_count": 17,
   "id": "6ea769bf",
   "metadata": {},
   "outputs": [],
   "source": [
    "rect1 = Rectangle((5,6),(7,9))"
   ]
  },
  {
   "cell_type": "code",
   "execution_count": 19,
   "id": "8b61e3f5",
   "metadata": {},
   "outputs": [
    {
     "data": {
      "text/plain": [
       "True"
      ]
     },
     "execution_count": 19,
     "metadata": {},
     "output_type": "execute_result"
    }
   ],
   "source": [
    "point1.falls_in_rectangle((5,6),(7,9))"
   ]
  },
  {
   "cell_type": "code",
   "execution_count": 20,
   "id": "9d84f054",
   "metadata": {},
   "outputs": [],
   "source": [
    "# we want to prive a single argument to falls_in_rectangle method"
   ]
  },
  {
   "cell_type": "code",
   "execution_count": 50,
   "id": "bfd63053",
   "metadata": {},
   "outputs": [],
   "source": [
    "class Point:\n",
    "    # need coordinates x,y for a point\n",
    "    def __init__ (self, x, y):\n",
    "        self.x = x\n",
    "        self.y = y\n",
    "    # need start_coordinate and end_coordinate for a rectange\n",
    "    def falls_in_rectangle(self,rectangle):\n",
    "        # condition to check the coordinates of point lies inside the rectangle\n",
    "        if rectangle.start_coordinate[0] < self.x < rectangle.end_coordinate[0]\\\n",
    "        and rectangle.start_coordinate[1] < self.y < rectangle.end_coordinate[1]:\n",
    "            return True\n",
    "        else:\n",
    "            return False\n",
    "    def distance(self, point):\n",
    "        return ((self.x - point.x)**2 + (self.y - point.y)**2)**0.5"
   ]
  },
  {
   "cell_type": "code",
   "execution_count": 51,
   "id": "15c33943",
   "metadata": {},
   "outputs": [],
   "source": [
    "class Rectangle:\n",
    "    def __init__ (self, start_coordinate, end_coordinate):\n",
    "        self.start_coordinate = start_coordinate\n",
    "        self.end_coordinate = end_coordinate\n",
    "    def area(self):\n",
    "        length = self.start_coordinate"
   ]
  },
  {
   "cell_type": "code",
   "execution_count": 55,
   "id": "b4652631",
   "metadata": {},
   "outputs": [
    {
     "name": "stdout",
     "output_type": "stream",
     "text": [
      "Rectangle Coordinates:  8  ,  4  and  18  ,  19\n",
      "Guess X: 4\n",
      "Guess Y: 3\n",
      "Your point was inside rectangle:  False\n"
     ]
    }
   ],
   "source": [
    "# random rectangel coordinates\n",
    "import random\n",
    "rectangle =Rectangle((random.randint(0,9), random.randint(0,9)), \n",
    "                     (random.randint(10,19), random.randint(10,19)) )\n",
    "print(\"Rectangle Coordinates: \",\n",
    "     rectangle.start_coordinate[0], \" , \",\n",
    "    rectangle.start_coordinate[1], \" and \"\n",
    "      , rectangle.end_coordinate[0], \" , \",\n",
    "    rectangle.end_coordinate[1],\n",
    "     )\n",
    "user_guess = Point(float(input(\"Guess X: \")),\n",
    "                  float(input(\"Guess Y: \"))\n",
    "                  )\n",
    "print(\"Your point was inside rectangle: \",user_guess.falls_in_rectangle(rectangle))"
   ]
  },
  {
   "cell_type": "code",
   "execution_count": null,
   "id": "9375bbb7",
   "metadata": {},
   "outputs": [],
   "source": []
  }
 ],
 "metadata": {
  "kernelspec": {
   "display_name": "Python 3 (ipykernel)",
   "language": "python",
   "name": "python3"
  },
  "language_info": {
   "codemirror_mode": {
    "name": "ipython",
    "version": 3
   },
   "file_extension": ".py",
   "mimetype": "text/x-python",
   "name": "python",
   "nbconvert_exporter": "python",
   "pygments_lexer": "ipython3",
   "version": "3.9.7"
  }
 },
 "nbformat": 4,
 "nbformat_minor": 5
}
